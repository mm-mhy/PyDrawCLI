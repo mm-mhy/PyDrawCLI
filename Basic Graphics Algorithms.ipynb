{
 "cells": [
  {
   "cell_type": "markdown",
   "metadata": {},
   "source": [
    "椭圆"
   ]
  },
  {
   "cell_type": "code",
   "execution_count": null,
   "metadata": {},
   "outputs": [],
   "source": [
    "import math\n",
    "\n",
    "def ellipse_points(cx, cy, a, b, num_points=100):\n",
    "    points = []\n",
    "    for i in range(num_points):\n",
    "        theta = 2 * math.pi * i / num_points\n",
    "        x = cx + a * math.cos(theta)\n",
    "        y = cy + b * math.sin(theta)\n",
    "        points.append((x, y))\n",
    "    return points\n",
    "\n",
    "# 示例\n",
    "cx, cy = 0, 0\n",
    "a, b = 5, 3\n",
    "points = ellipse_points(cx, cy, a, b)\n",
    "print(points)"
   ]
  },
  {
   "cell_type": "markdown",
   "metadata": {},
   "source": [
    "正方形1\n",
    "输入： 左上顶点 (x1, y1)，右下顶点 (x2, y2)\n",
    "输出： 四个顶点坐标"
   ]
  },
  {
   "cell_type": "code",
   "execution_count": null,
   "metadata": {},
   "outputs": [],
   "source": [
    "def square_points_method1(x1, y1, x2, y2):\n",
    "    points = [(x1, y1), (x2, y1), (x2, y2), (x1, y2)]\n",
    "    return points\n",
    "\n",
    "# 示例\n",
    "x1, y1 = 0, 0\n",
    "x2, y2 = 3, 3\n",
    "points = square_points_method1(x1, y1, x2, y2)\n",
    "print(points)"
   ]
  },
  {
   "cell_type": "markdown",
   "metadata": {},
   "source": [
    "正方形2\n",
    "输入： 左上顶点 (x1, y1)，长 length，宽 width\n",
    "输出： 四个顶点坐标"
   ]
  },
  {
   "cell_type": "code",
   "execution_count": null,
   "metadata": {},
   "outputs": [],
   "source": [
    "def square_points_method2(x1, y1, length, width):\n",
    "    points = [(x1, y1), (x1 + length, y1), (x1 + length, y1 - width), (x1, y1 - width)]\n",
    "    return points\n",
    "\n",
    "# 示例\n",
    "x1, y1 = 0, 0\n",
    "length, width = 3, 3\n",
    "points = square_points_method2(x1, y1, length, width)\n",
    "print(points)"
   ]
  }
 ],
 "metadata": {
  "kernelspec": {
   "display_name": "base",
   "language": "python",
   "name": "python3"
  },
  "language_info": {
   "name": "python",
   "version": "3.12.3"
  }
 },
 "nbformat": 4,
 "nbformat_minor": 2
}
